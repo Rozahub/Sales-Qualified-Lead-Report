{
  "cells": [
    {
      "cell_type": "markdown",
      "metadata": {
        "id": "view-in-github",
        "colab_type": "text"
      },
      "source": [
        "<a href=\"https://colab.research.google.com/github/Rozahub/Sales-Qualified-Lead-Report/blob/main/Unthinkable_Solutions.ipynb\" target=\"_parent\"><img src=\"https://colab.research.google.com/assets/colab-badge.svg\" alt=\"Open In Colab\"/></a>"
      ]
    },
    {
      "cell_type": "markdown",
      "metadata": {
        "id": "eRk71cI5fcsT"
      },
      "source": [
        "# Sales Qualified Lead (SQL) Analysis\n",
        "\n"
      ]
    },
    {
      "cell_type": "markdown",
      "metadata": {
        "id": "pSsMpN8ADFWT"
      },
      "source": [
        "#### An SQL (Sales Qualified Lead) is a potential customer who has moved through the sales process and has expressed enough interest that the sales team can concentrate on converting them into active customers.\n",
        "\n",
        "#### Have you wondered how we can know the best leads? Or the leads coming from which platform are the most? So, in order to get all these information we need to do some analysis. What if you wanted to predict whether or not a lead is important or a potential customer? This SQL (Sales Qualified Lead) data set can help you explore those questions!\n",
        "\n",
        "#### This data set contains Sales Owner details, Entity Name(Name of the lead organization), Current Stage of the lead. The different stages being(Prospect-Lead-Qualified Lead-Customer), Prospect-Identified entities to whom organisation will connect to through different channels, Lead-An Entity from which first level positive response is received:Qualified Lead(QL)-Lead is qualified by Sales team ans a genuine lead through defined process, Channel- Channel through which lead was acquired, Lead Score- Score of lead is calculated through defined formula to understand business potential from the lead.Higher the lead score, better the lead.\n",
        "\n",
        "#### Explore and analyse the data to discover important factors that govern the leads."
      ]
    },
    {
      "cell_type": "markdown",
      "metadata": {
        "id": "1OqzraewdbUX"
      },
      "source": [
        "# ![image.png](attachment:image.png)"
      ]
    },
    {
      "cell_type": "markdown",
      "metadata": {
        "id": "9Z7ySQhafB3O"
      },
      "source": [
        "# Project Type    - EDA\n",
        "\n",
        "\n",
        "### Name- Roja Rahman\n"
      ]
    },
    {
      "cell_type": "markdown",
      "metadata": {
        "id": "lKFt1m45fwrw"
      },
      "source": [
        "# Project Summary -\n",
        "\n",
        "#### The topic of my project is SQL (Sales Qualified Lead) Data Analysis. For this project I will be analyzing SQL (Sales Qualified Lead) Data. This data set contains Sales Owner details, Entity Name, Current Stage of the lead, Qualified Lead(QL), Channel, Lead Score etc. As we all know, Sales department is a very volatile department and the customers depend on above factors and many more. Our main objective behind this project is to explore and analyze the given dataset and draw useful conclusions about general trends in leads and how factors governing leads interact with each other. Also, to give insights to Unthinkable Solutions, which can perform various campaigns to boost the business and performances of the oragnization.\n",
        "\n",
        "#### The tools and libraries we have used here are pandas, matplotlib, seaborn, etc.\n",
        "\n"
      ]
    },
    {
      "cell_type": "markdown",
      "metadata": {
        "id": "CEG3qYH2pFhJ"
      },
      "source": [
        "## **Business Objective**\n",
        "\n",
        "Our business objective in this project after analyzing the given data_set is to draw useful conclusions about general trends in SQL and how factors governing leads interact with each other and accordingly,give objectives as follows:\n",
        "\n",
        "*   Provide customers accurate information about available products.\n",
        "*   To maximize the productivity of the organization.\n",
        "*   To build connections with customers through different platforms.\n",
        "*   Efficiency of sales, especially for repeated customers."
      ]
    },
    {
      "cell_type": "markdown",
      "metadata": {
        "id": "MCF87r0tsRck"
      },
      "source": [
        "# **Let's Begin**!"
      ]
    },
    {
      "cell_type": "markdown",
      "metadata": {
        "id": "2H4ZSbtLmjLj"
      },
      "source": [
        "# Importing Essential Libraries"
      ]
    },
    {
      "cell_type": "code",
      "execution_count": null,
      "metadata": {
        "id": "zlayf4N-i0tg"
      },
      "outputs": [],
      "source": [
        "import pandas as pd\n",
        "import numpy as np\n",
        "import matplotlib.pyplot as plt\n",
        "%matplotlib inline\n",
        "import seaborn as sns"
      ]
    },
    {
      "cell_type": "markdown",
      "metadata": {
        "id": "xoprHUXEnAQn"
      },
      "source": [
        "# Giving .csv file location & Reading the .csv file"
      ]
    },
    {
      "cell_type": "code",
      "execution_count": null,
      "metadata": {
        "id": "M72Zz2RQdbUh",
        "outputId": "391d9aea-bee8-4a51-d4e2-7544bd143013"
      },
      "outputs": [
        {
          "data": {
            "text/html": [
              "<div>\n",
              "<style scoped>\n",
              "    .dataframe tbody tr th:only-of-type {\n",
              "        vertical-align: middle;\n",
              "    }\n",
              "\n",
              "    .dataframe tbody tr th {\n",
              "        vertical-align: top;\n",
              "    }\n",
              "\n",
              "    .dataframe thead th {\n",
              "        text-align: right;\n",
              "    }\n",
              "</style>\n",
              "<table border=\"1\" class=\"dataframe\">\n",
              "  <thead>\n",
              "    <tr style=\"text-align: right;\">\n",
              "      <th></th>\n",
              "      <th>Sales Owner</th>\n",
              "      <th>Entity Name</th>\n",
              "      <th>Current Stage</th>\n",
              "      <th>Status</th>\n",
              "      <th>QL Creation  Date</th>\n",
              "      <th>Lead Creation Date</th>\n",
              "      <th>Prospect Creation Date</th>\n",
              "      <th>Channel</th>\n",
              "      <th>Lead Score</th>\n",
              "      <th>Lost Date</th>\n",
              "      <th>Nuture Date</th>\n",
              "      <th>Won Date</th>\n",
              "    </tr>\n",
              "  </thead>\n",
              "  <tbody>\n",
              "    <tr>\n",
              "      <th>0</th>\n",
              "      <td>SN</td>\n",
              "      <td>1.0</td>\n",
              "      <td>QL</td>\n",
              "      <td>Active</td>\n",
              "      <td>1/17/2024</td>\n",
              "      <td>NaN</td>\n",
              "      <td>NaN</td>\n",
              "      <td>Email</td>\n",
              "      <td>0.75</td>\n",
              "      <td>NaN</td>\n",
              "      <td>NaN</td>\n",
              "      <td>NaN</td>\n",
              "    </tr>\n",
              "    <tr>\n",
              "      <th>1</th>\n",
              "      <td>AT</td>\n",
              "      <td>2.0</td>\n",
              "      <td>QL</td>\n",
              "      <td>Active</td>\n",
              "      <td>1/17/2024</td>\n",
              "      <td>NaN</td>\n",
              "      <td>1/11/2024</td>\n",
              "      <td>Email</td>\n",
              "      <td>1.25</td>\n",
              "      <td>NaN</td>\n",
              "      <td>NaN</td>\n",
              "      <td>NaN</td>\n",
              "    </tr>\n",
              "    <tr>\n",
              "      <th>2</th>\n",
              "      <td>YS</td>\n",
              "      <td>3.0</td>\n",
              "      <td>QL</td>\n",
              "      <td>Active</td>\n",
              "      <td>1/17/2024</td>\n",
              "      <td>NaN</td>\n",
              "      <td>1/16/2024</td>\n",
              "      <td>No Channel Data Available</td>\n",
              "      <td>0.56</td>\n",
              "      <td>NaN</td>\n",
              "      <td>NaN</td>\n",
              "      <td>NaN</td>\n",
              "    </tr>\n",
              "    <tr>\n",
              "      <th>3</th>\n",
              "      <td>NP</td>\n",
              "      <td>4.0</td>\n",
              "      <td>QL</td>\n",
              "      <td>Active</td>\n",
              "      <td>1/17/2024</td>\n",
              "      <td>NaN</td>\n",
              "      <td>1/17/2024</td>\n",
              "      <td>Website</td>\n",
              "      <td>0.25</td>\n",
              "      <td>NaN</td>\n",
              "      <td>NaN</td>\n",
              "      <td>NaN</td>\n",
              "    </tr>\n",
              "    <tr>\n",
              "      <th>4</th>\n",
              "      <td>SC</td>\n",
              "      <td>5.0</td>\n",
              "      <td>QL</td>\n",
              "      <td>Free</td>\n",
              "      <td>1/16/2024</td>\n",
              "      <td>1/4/2024</td>\n",
              "      <td>1/13/2021</td>\n",
              "      <td>LinkedIn</td>\n",
              "      <td>0.94</td>\n",
              "      <td>NaN</td>\n",
              "      <td>NaN</td>\n",
              "      <td>NaN</td>\n",
              "    </tr>\n",
              "    <tr>\n",
              "      <th>...</th>\n",
              "      <td>...</td>\n",
              "      <td>...</td>\n",
              "      <td>...</td>\n",
              "      <td>...</td>\n",
              "      <td>...</td>\n",
              "      <td>...</td>\n",
              "      <td>...</td>\n",
              "      <td>...</td>\n",
              "      <td>...</td>\n",
              "      <td>...</td>\n",
              "      <td>...</td>\n",
              "      <td>...</td>\n",
              "    </tr>\n",
              "    <tr>\n",
              "      <th>994</th>\n",
              "      <td>NaN</td>\n",
              "      <td>NaN</td>\n",
              "      <td>NaN</td>\n",
              "      <td>NaN</td>\n",
              "      <td>NaN</td>\n",
              "      <td>NaN</td>\n",
              "      <td>NaN</td>\n",
              "      <td>NaN</td>\n",
              "      <td>NaN</td>\n",
              "      <td>NaN</td>\n",
              "      <td>NaN</td>\n",
              "      <td>NaN</td>\n",
              "    </tr>\n",
              "    <tr>\n",
              "      <th>995</th>\n",
              "      <td>NaN</td>\n",
              "      <td>NaN</td>\n",
              "      <td>NaN</td>\n",
              "      <td>NaN</td>\n",
              "      <td>NaN</td>\n",
              "      <td>NaN</td>\n",
              "      <td>NaN</td>\n",
              "      <td>NaN</td>\n",
              "      <td>NaN</td>\n",
              "      <td>NaN</td>\n",
              "      <td>NaN</td>\n",
              "      <td>NaN</td>\n",
              "    </tr>\n",
              "    <tr>\n",
              "      <th>996</th>\n",
              "      <td>NaN</td>\n",
              "      <td>NaN</td>\n",
              "      <td>NaN</td>\n",
              "      <td>NaN</td>\n",
              "      <td>NaN</td>\n",
              "      <td>NaN</td>\n",
              "      <td>NaN</td>\n",
              "      <td>NaN</td>\n",
              "      <td>NaN</td>\n",
              "      <td>NaN</td>\n",
              "      <td>NaN</td>\n",
              "      <td>NaN</td>\n",
              "    </tr>\n",
              "    <tr>\n",
              "      <th>997</th>\n",
              "      <td>NaN</td>\n",
              "      <td>NaN</td>\n",
              "      <td>NaN</td>\n",
              "      <td>NaN</td>\n",
              "      <td>NaN</td>\n",
              "      <td>NaN</td>\n",
              "      <td>NaN</td>\n",
              "      <td>NaN</td>\n",
              "      <td>NaN</td>\n",
              "      <td>NaN</td>\n",
              "      <td>NaN</td>\n",
              "      <td>NaN</td>\n",
              "    </tr>\n",
              "    <tr>\n",
              "      <th>998</th>\n",
              "      <td>NaN</td>\n",
              "      <td>NaN</td>\n",
              "      <td>NaN</td>\n",
              "      <td>NaN</td>\n",
              "      <td>NaN</td>\n",
              "      <td>NaN</td>\n",
              "      <td>NaN</td>\n",
              "      <td>NaN</td>\n",
              "      <td>NaN</td>\n",
              "      <td>NaN</td>\n",
              "      <td>NaN</td>\n",
              "      <td>NaN</td>\n",
              "    </tr>\n",
              "  </tbody>\n",
              "</table>\n",
              "<p>999 rows × 12 columns</p>\n",
              "</div>"
            ],
            "text/plain": [
              "    Sales Owner  Entity Name Current Stage  Status QL Creation  Date  \\\n",
              "0            SN          1.0            QL  Active         1/17/2024   \n",
              "1            AT          2.0            QL  Active         1/17/2024   \n",
              "2            YS          3.0            QL  Active         1/17/2024   \n",
              "3            NP          4.0            QL  Active         1/17/2024   \n",
              "4            SC          5.0            QL    Free         1/16/2024   \n",
              "..          ...          ...           ...     ...               ...   \n",
              "994         NaN          NaN           NaN     NaN               NaN   \n",
              "995         NaN          NaN           NaN     NaN               NaN   \n",
              "996         NaN          NaN           NaN     NaN               NaN   \n",
              "997         NaN          NaN           NaN     NaN               NaN   \n",
              "998         NaN          NaN           NaN     NaN               NaN   \n",
              "\n",
              "    Lead Creation Date Prospect Creation Date                    Channel  \\\n",
              "0                  NaN                    NaN                      Email   \n",
              "1                  NaN              1/11/2024                      Email   \n",
              "2                  NaN              1/16/2024  No Channel Data Available   \n",
              "3                  NaN              1/17/2024                    Website   \n",
              "4             1/4/2024              1/13/2021                   LinkedIn   \n",
              "..                 ...                    ...                        ...   \n",
              "994                NaN                    NaN                        NaN   \n",
              "995                NaN                    NaN                        NaN   \n",
              "996                NaN                    NaN                        NaN   \n",
              "997                NaN                    NaN                        NaN   \n",
              "998                NaN                    NaN                        NaN   \n",
              "\n",
              "     Lead Score Lost Date Nuture Date Won Date  \n",
              "0          0.75       NaN         NaN      NaN  \n",
              "1          1.25       NaN         NaN      NaN  \n",
              "2          0.56       NaN         NaN      NaN  \n",
              "3          0.25       NaN         NaN      NaN  \n",
              "4          0.94       NaN         NaN      NaN  \n",
              "..          ...       ...         ...      ...  \n",
              "994         NaN       NaN         NaN      NaN  \n",
              "995         NaN       NaN         NaN      NaN  \n",
              "996         NaN       NaN         NaN      NaN  \n",
              "997         NaN       NaN         NaN      NaN  \n",
              "998         NaN       NaN         NaN      NaN  \n",
              "\n",
              "[999 rows x 12 columns]"
            ]
          },
          "execution_count": 2,
          "metadata": {},
          "output_type": "execute_result"
        }
      ],
      "source": [
        "import pandas as pd\n",
        "SQL=pd.read_csv(r'C:\\Users\\Lenovo\\Desktop\\Lead Report.csv')\n",
        "#print(data.to_string())\n",
        "SQL"
      ]
    },
    {
      "cell_type": "code",
      "execution_count": null,
      "metadata": {
        "colab": {
          "base_uri": "https://localhost:8080/"
        },
        "id": "S3u-9ZUcpJCD",
        "outputId": "94d4405d-9d4d-4e03-8ea6-e1258abdcbaa"
      },
      "outputs": [
        {
          "data": {
            "text/plain": [
              "(999, 12)"
            ]
          },
          "execution_count": 3,
          "metadata": {},
          "output_type": "execute_result"
        }
      ],
      "source": [
        "# Using .shape to find the total number of rows and columns\n",
        "SQL.shape"
      ]
    },
    {
      "cell_type": "code",
      "execution_count": null,
      "metadata": {
        "colab": {
          "base_uri": "https://localhost:8080/",
          "height": 337
        },
        "id": "djmIP9UNkAUk",
        "outputId": "2525df8e-aaaa-4fdc-c99b-d7da69c77e39"
      },
      "outputs": [
        {
          "data": {
            "text/html": [
              "<div>\n",
              "<style scoped>\n",
              "    .dataframe tbody tr th:only-of-type {\n",
              "        vertical-align: middle;\n",
              "    }\n",
              "\n",
              "    .dataframe tbody tr th {\n",
              "        vertical-align: top;\n",
              "    }\n",
              "\n",
              "    .dataframe thead th {\n",
              "        text-align: right;\n",
              "    }\n",
              "</style>\n",
              "<table border=\"1\" class=\"dataframe\">\n",
              "  <thead>\n",
              "    <tr style=\"text-align: right;\">\n",
              "      <th></th>\n",
              "      <th>Sales Owner</th>\n",
              "      <th>Entity Name</th>\n",
              "      <th>Current Stage</th>\n",
              "      <th>Status</th>\n",
              "      <th>QL Creation  Date</th>\n",
              "      <th>Lead Creation Date</th>\n",
              "      <th>Prospect Creation Date</th>\n",
              "      <th>Channel</th>\n",
              "      <th>Lead Score</th>\n",
              "      <th>Lost Date</th>\n",
              "      <th>Nuture Date</th>\n",
              "      <th>Won Date</th>\n",
              "    </tr>\n",
              "  </thead>\n",
              "  <tbody>\n",
              "    <tr>\n",
              "      <th>0</th>\n",
              "      <td>SN</td>\n",
              "      <td>1.0</td>\n",
              "      <td>QL</td>\n",
              "      <td>Active</td>\n",
              "      <td>1/17/2024</td>\n",
              "      <td>NaN</td>\n",
              "      <td>NaN</td>\n",
              "      <td>Email</td>\n",
              "      <td>0.75</td>\n",
              "      <td>NaN</td>\n",
              "      <td>NaN</td>\n",
              "      <td>NaN</td>\n",
              "    </tr>\n",
              "    <tr>\n",
              "      <th>1</th>\n",
              "      <td>AT</td>\n",
              "      <td>2.0</td>\n",
              "      <td>QL</td>\n",
              "      <td>Active</td>\n",
              "      <td>1/17/2024</td>\n",
              "      <td>NaN</td>\n",
              "      <td>1/11/2024</td>\n",
              "      <td>Email</td>\n",
              "      <td>1.25</td>\n",
              "      <td>NaN</td>\n",
              "      <td>NaN</td>\n",
              "      <td>NaN</td>\n",
              "    </tr>\n",
              "    <tr>\n",
              "      <th>2</th>\n",
              "      <td>YS</td>\n",
              "      <td>3.0</td>\n",
              "      <td>QL</td>\n",
              "      <td>Active</td>\n",
              "      <td>1/17/2024</td>\n",
              "      <td>NaN</td>\n",
              "      <td>1/16/2024</td>\n",
              "      <td>No Channel Data Available</td>\n",
              "      <td>0.56</td>\n",
              "      <td>NaN</td>\n",
              "      <td>NaN</td>\n",
              "      <td>NaN</td>\n",
              "    </tr>\n",
              "    <tr>\n",
              "      <th>3</th>\n",
              "      <td>NP</td>\n",
              "      <td>4.0</td>\n",
              "      <td>QL</td>\n",
              "      <td>Active</td>\n",
              "      <td>1/17/2024</td>\n",
              "      <td>NaN</td>\n",
              "      <td>1/17/2024</td>\n",
              "      <td>Website</td>\n",
              "      <td>0.25</td>\n",
              "      <td>NaN</td>\n",
              "      <td>NaN</td>\n",
              "      <td>NaN</td>\n",
              "    </tr>\n",
              "  </tbody>\n",
              "</table>\n",
              "</div>"
            ],
            "text/plain": [
              "  Sales Owner  Entity Name Current Stage  Status QL Creation  Date  \\\n",
              "0          SN          1.0            QL  Active         1/17/2024   \n",
              "1          AT          2.0            QL  Active         1/17/2024   \n",
              "2          YS          3.0            QL  Active         1/17/2024   \n",
              "3          NP          4.0            QL  Active         1/17/2024   \n",
              "\n",
              "  Lead Creation Date Prospect Creation Date                    Channel  \\\n",
              "0                NaN                    NaN                      Email   \n",
              "1                NaN              1/11/2024                      Email   \n",
              "2                NaN              1/16/2024  No Channel Data Available   \n",
              "3                NaN              1/17/2024                    Website   \n",
              "\n",
              "   Lead Score Lost Date Nuture Date Won Date  \n",
              "0        0.75       NaN         NaN      NaN  \n",
              "1        1.25       NaN         NaN      NaN  \n",
              "2        0.56       NaN         NaN      NaN  \n",
              "3        0.25       NaN         NaN      NaN  "
            ]
          },
          "execution_count": 4,
          "metadata": {},
          "output_type": "execute_result"
        }
      ],
      "source": [
        "# Using .head(4) to find top 4 rows\n",
        "SQL.head(4)"
      ]
    },
    {
      "cell_type": "code",
      "execution_count": null,
      "metadata": {
        "colab": {
          "base_uri": "https://localhost:8080/",
          "height": 1000
        },
        "id": "NwQxzK1jkCjc",
        "outputId": "423037a8-fbe9-47f8-afd6-a317049fdd71"
      },
      "outputs": [
        {
          "data": {
            "text/html": [
              "<div>\n",
              "<style scoped>\n",
              "    .dataframe tbody tr th:only-of-type {\n",
              "        vertical-align: middle;\n",
              "    }\n",
              "\n",
              "    .dataframe tbody tr th {\n",
              "        vertical-align: top;\n",
              "    }\n",
              "\n",
              "    .dataframe thead th {\n",
              "        text-align: right;\n",
              "    }\n",
              "</style>\n",
              "<table border=\"1\" class=\"dataframe\">\n",
              "  <thead>\n",
              "    <tr style=\"text-align: right;\">\n",
              "      <th></th>\n",
              "      <th>0</th>\n",
              "      <th>1</th>\n",
              "      <th>2</th>\n",
              "      <th>3</th>\n",
              "      <th>4</th>\n",
              "      <th>5</th>\n",
              "      <th>6</th>\n",
              "      <th>7</th>\n",
              "      <th>8</th>\n",
              "      <th>9</th>\n",
              "      <th>...</th>\n",
              "      <th>989</th>\n",
              "      <th>990</th>\n",
              "      <th>991</th>\n",
              "      <th>992</th>\n",
              "      <th>993</th>\n",
              "      <th>994</th>\n",
              "      <th>995</th>\n",
              "      <th>996</th>\n",
              "      <th>997</th>\n",
              "      <th>998</th>\n",
              "    </tr>\n",
              "  </thead>\n",
              "  <tbody>\n",
              "    <tr>\n",
              "      <th>Sales Owner</th>\n",
              "      <td>SN</td>\n",
              "      <td>AT</td>\n",
              "      <td>YS</td>\n",
              "      <td>NP</td>\n",
              "      <td>SC</td>\n",
              "      <td>Ah</td>\n",
              "      <td>YS</td>\n",
              "      <td>ATS</td>\n",
              "      <td>Ah</td>\n",
              "      <td>BK</td>\n",
              "      <td>...</td>\n",
              "      <td>NaN</td>\n",
              "      <td>NaN</td>\n",
              "      <td>NaN</td>\n",
              "      <td>NaN</td>\n",
              "      <td>NaN</td>\n",
              "      <td>NaN</td>\n",
              "      <td>NaN</td>\n",
              "      <td>NaN</td>\n",
              "      <td>NaN</td>\n",
              "      <td>NaN</td>\n",
              "    </tr>\n",
              "    <tr>\n",
              "      <th>Entity Name</th>\n",
              "      <td>1.0</td>\n",
              "      <td>2.0</td>\n",
              "      <td>3.0</td>\n",
              "      <td>4.0</td>\n",
              "      <td>5.0</td>\n",
              "      <td>6.0</td>\n",
              "      <td>7.0</td>\n",
              "      <td>8.0</td>\n",
              "      <td>9.0</td>\n",
              "      <td>10.0</td>\n",
              "      <td>...</td>\n",
              "      <td>NaN</td>\n",
              "      <td>NaN</td>\n",
              "      <td>NaN</td>\n",
              "      <td>NaN</td>\n",
              "      <td>NaN</td>\n",
              "      <td>NaN</td>\n",
              "      <td>NaN</td>\n",
              "      <td>NaN</td>\n",
              "      <td>NaN</td>\n",
              "      <td>NaN</td>\n",
              "    </tr>\n",
              "    <tr>\n",
              "      <th>Current Stage</th>\n",
              "      <td>QL</td>\n",
              "      <td>QL</td>\n",
              "      <td>QL</td>\n",
              "      <td>QL</td>\n",
              "      <td>QL</td>\n",
              "      <td>QL</td>\n",
              "      <td>QL</td>\n",
              "      <td>QL</td>\n",
              "      <td>QL</td>\n",
              "      <td>QL</td>\n",
              "      <td>...</td>\n",
              "      <td>NaN</td>\n",
              "      <td>NaN</td>\n",
              "      <td>NaN</td>\n",
              "      <td>NaN</td>\n",
              "      <td>NaN</td>\n",
              "      <td>NaN</td>\n",
              "      <td>NaN</td>\n",
              "      <td>NaN</td>\n",
              "      <td>NaN</td>\n",
              "      <td>NaN</td>\n",
              "    </tr>\n",
              "    <tr>\n",
              "      <th>Status</th>\n",
              "      <td>Active</td>\n",
              "      <td>Active</td>\n",
              "      <td>Active</td>\n",
              "      <td>Active</td>\n",
              "      <td>Free</td>\n",
              "      <td>Lost</td>\n",
              "      <td>Active</td>\n",
              "      <td>Active</td>\n",
              "      <td>Active</td>\n",
              "      <td>Active</td>\n",
              "      <td>...</td>\n",
              "      <td>NaN</td>\n",
              "      <td>NaN</td>\n",
              "      <td>NaN</td>\n",
              "      <td>NaN</td>\n",
              "      <td>NaN</td>\n",
              "      <td>NaN</td>\n",
              "      <td>NaN</td>\n",
              "      <td>NaN</td>\n",
              "      <td>NaN</td>\n",
              "      <td>NaN</td>\n",
              "    </tr>\n",
              "    <tr>\n",
              "      <th>QL Creation  Date</th>\n",
              "      <td>1/17/2024</td>\n",
              "      <td>1/17/2024</td>\n",
              "      <td>1/17/2024</td>\n",
              "      <td>1/17/2024</td>\n",
              "      <td>1/16/2024</td>\n",
              "      <td>1/16/2024</td>\n",
              "      <td>1/16/2024</td>\n",
              "      <td>1/16/2024</td>\n",
              "      <td>1/16/2024</td>\n",
              "      <td>1/15/2024</td>\n",
              "      <td>...</td>\n",
              "      <td>NaN</td>\n",
              "      <td>NaN</td>\n",
              "      <td>NaN</td>\n",
              "      <td>NaN</td>\n",
              "      <td>NaN</td>\n",
              "      <td>NaN</td>\n",
              "      <td>NaN</td>\n",
              "      <td>NaN</td>\n",
              "      <td>NaN</td>\n",
              "      <td>NaN</td>\n",
              "    </tr>\n",
              "    <tr>\n",
              "      <th>Lead Creation Date</th>\n",
              "      <td>NaN</td>\n",
              "      <td>NaN</td>\n",
              "      <td>NaN</td>\n",
              "      <td>NaN</td>\n",
              "      <td>1/4/2024</td>\n",
              "      <td>10/20/2023</td>\n",
              "      <td>NaN</td>\n",
              "      <td>NaN</td>\n",
              "      <td>1/16/2024</td>\n",
              "      <td>1/5/2024</td>\n",
              "      <td>...</td>\n",
              "      <td>NaN</td>\n",
              "      <td>NaN</td>\n",
              "      <td>NaN</td>\n",
              "      <td>NaN</td>\n",
              "      <td>NaN</td>\n",
              "      <td>NaN</td>\n",
              "      <td>NaN</td>\n",
              "      <td>NaN</td>\n",
              "      <td>NaN</td>\n",
              "      <td>NaN</td>\n",
              "    </tr>\n",
              "    <tr>\n",
              "      <th>Prospect Creation Date</th>\n",
              "      <td>NaN</td>\n",
              "      <td>1/11/2024</td>\n",
              "      <td>1/16/2024</td>\n",
              "      <td>1/17/2024</td>\n",
              "      <td>1/13/2021</td>\n",
              "      <td>10/20/2023</td>\n",
              "      <td>1/16/2024</td>\n",
              "      <td>1/16/2024</td>\n",
              "      <td>1/16/2024</td>\n",
              "      <td>7/19/2022</td>\n",
              "      <td>...</td>\n",
              "      <td>NaN</td>\n",
              "      <td>NaN</td>\n",
              "      <td>NaN</td>\n",
              "      <td>NaN</td>\n",
              "      <td>NaN</td>\n",
              "      <td>NaN</td>\n",
              "      <td>NaN</td>\n",
              "      <td>NaN</td>\n",
              "      <td>NaN</td>\n",
              "      <td>NaN</td>\n",
              "    </tr>\n",
              "    <tr>\n",
              "      <th>Channel</th>\n",
              "      <td>Email</td>\n",
              "      <td>Email</td>\n",
              "      <td>No Channel Data Available</td>\n",
              "      <td>Website</td>\n",
              "      <td>LinkedIn</td>\n",
              "      <td>Email</td>\n",
              "      <td>No Channel Data Available</td>\n",
              "      <td>Referral</td>\n",
              "      <td>Email</td>\n",
              "      <td>Email</td>\n",
              "      <td>...</td>\n",
              "      <td>NaN</td>\n",
              "      <td>NaN</td>\n",
              "      <td>NaN</td>\n",
              "      <td>NaN</td>\n",
              "      <td>NaN</td>\n",
              "      <td>NaN</td>\n",
              "      <td>NaN</td>\n",
              "      <td>NaN</td>\n",
              "      <td>NaN</td>\n",
              "      <td>NaN</td>\n",
              "    </tr>\n",
              "    <tr>\n",
              "      <th>Lead Score</th>\n",
              "      <td>0.75</td>\n",
              "      <td>1.25</td>\n",
              "      <td>0.56</td>\n",
              "      <td>0.25</td>\n",
              "      <td>0.94</td>\n",
              "      <td>1.5</td>\n",
              "      <td>0.5</td>\n",
              "      <td>1.25</td>\n",
              "      <td>1.5</td>\n",
              "      <td>1.0</td>\n",
              "      <td>...</td>\n",
              "      <td>NaN</td>\n",
              "      <td>NaN</td>\n",
              "      <td>NaN</td>\n",
              "      <td>NaN</td>\n",
              "      <td>NaN</td>\n",
              "      <td>NaN</td>\n",
              "      <td>NaN</td>\n",
              "      <td>NaN</td>\n",
              "      <td>NaN</td>\n",
              "      <td>NaN</td>\n",
              "    </tr>\n",
              "    <tr>\n",
              "      <th>Lost Date</th>\n",
              "      <td>NaN</td>\n",
              "      <td>NaN</td>\n",
              "      <td>NaN</td>\n",
              "      <td>NaN</td>\n",
              "      <td>NaN</td>\n",
              "      <td>12/28/2023</td>\n",
              "      <td>NaN</td>\n",
              "      <td>NaN</td>\n",
              "      <td>NaN</td>\n",
              "      <td>NaN</td>\n",
              "      <td>...</td>\n",
              "      <td>NaN</td>\n",
              "      <td>NaN</td>\n",
              "      <td>NaN</td>\n",
              "      <td>NaN</td>\n",
              "      <td>NaN</td>\n",
              "      <td>NaN</td>\n",
              "      <td>NaN</td>\n",
              "      <td>NaN</td>\n",
              "      <td>NaN</td>\n",
              "      <td>NaN</td>\n",
              "    </tr>\n",
              "    <tr>\n",
              "      <th>Nuture Date</th>\n",
              "      <td>NaN</td>\n",
              "      <td>NaN</td>\n",
              "      <td>NaN</td>\n",
              "      <td>NaN</td>\n",
              "      <td>NaN</td>\n",
              "      <td>NaN</td>\n",
              "      <td>NaN</td>\n",
              "      <td>NaN</td>\n",
              "      <td>NaN</td>\n",
              "      <td>NaN</td>\n",
              "      <td>...</td>\n",
              "      <td>NaN</td>\n",
              "      <td>NaN</td>\n",
              "      <td>NaN</td>\n",
              "      <td>NaN</td>\n",
              "      <td>NaN</td>\n",
              "      <td>NaN</td>\n",
              "      <td>NaN</td>\n",
              "      <td>NaN</td>\n",
              "      <td>NaN</td>\n",
              "      <td>NaN</td>\n",
              "    </tr>\n",
              "    <tr>\n",
              "      <th>Won Date</th>\n",
              "      <td>NaN</td>\n",
              "      <td>NaN</td>\n",
              "      <td>NaN</td>\n",
              "      <td>NaN</td>\n",
              "      <td>NaN</td>\n",
              "      <td>NaN</td>\n",
              "      <td>NaN</td>\n",
              "      <td>NaN</td>\n",
              "      <td>NaN</td>\n",
              "      <td>NaN</td>\n",
              "      <td>...</td>\n",
              "      <td>NaN</td>\n",
              "      <td>NaN</td>\n",
              "      <td>NaN</td>\n",
              "      <td>NaN</td>\n",
              "      <td>NaN</td>\n",
              "      <td>NaN</td>\n",
              "      <td>NaN</td>\n",
              "      <td>NaN</td>\n",
              "      <td>NaN</td>\n",
              "      <td>NaN</td>\n",
              "    </tr>\n",
              "  </tbody>\n",
              "</table>\n",
              "<p>12 rows × 999 columns</p>\n",
              "</div>"
            ],
            "text/plain": [
              "                              0          1                          2    \\\n",
              "Sales Owner                    SN         AT                         YS   \n",
              "Entity Name                   1.0        2.0                        3.0   \n",
              "Current Stage                  QL         QL                         QL   \n",
              "Status                     Active     Active                     Active   \n",
              "QL Creation  Date       1/17/2024  1/17/2024                  1/17/2024   \n",
              "Lead Creation Date            NaN        NaN                        NaN   \n",
              "Prospect Creation Date        NaN  1/11/2024                  1/16/2024   \n",
              "Channel                     Email      Email  No Channel Data Available   \n",
              "Lead Score                   0.75       1.25                       0.56   \n",
              "Lost Date                     NaN        NaN                        NaN   \n",
              "Nuture Date                   NaN        NaN                        NaN   \n",
              "Won Date                      NaN        NaN                        NaN   \n",
              "\n",
              "                              3          4           5    \\\n",
              "Sales Owner                    NP         SC          Ah   \n",
              "Entity Name                   4.0        5.0         6.0   \n",
              "Current Stage                  QL         QL          QL   \n",
              "Status                     Active       Free        Lost   \n",
              "QL Creation  Date       1/17/2024  1/16/2024   1/16/2024   \n",
              "Lead Creation Date            NaN   1/4/2024  10/20/2023   \n",
              "Prospect Creation Date  1/17/2024  1/13/2021  10/20/2023   \n",
              "Channel                   Website   LinkedIn       Email   \n",
              "Lead Score                   0.25       0.94         1.5   \n",
              "Lost Date                     NaN        NaN  12/28/2023   \n",
              "Nuture Date                   NaN        NaN         NaN   \n",
              "Won Date                      NaN        NaN         NaN   \n",
              "\n",
              "                                              6          7          8    \\\n",
              "Sales Owner                                    YS        ATS         Ah   \n",
              "Entity Name                                   7.0        8.0        9.0   \n",
              "Current Stage                                  QL         QL         QL   \n",
              "Status                                     Active     Active     Active   \n",
              "QL Creation  Date                       1/16/2024  1/16/2024  1/16/2024   \n",
              "Lead Creation Date                            NaN        NaN  1/16/2024   \n",
              "Prospect Creation Date                  1/16/2024  1/16/2024  1/16/2024   \n",
              "Channel                 No Channel Data Available   Referral      Email   \n",
              "Lead Score                                    0.5       1.25        1.5   \n",
              "Lost Date                                     NaN        NaN        NaN   \n",
              "Nuture Date                                   NaN        NaN        NaN   \n",
              "Won Date                                      NaN        NaN        NaN   \n",
              "\n",
              "                              9    ...  989  990  991  992  993  994  995  \\\n",
              "Sales Owner                    BK  ...  NaN  NaN  NaN  NaN  NaN  NaN  NaN   \n",
              "Entity Name                  10.0  ...  NaN  NaN  NaN  NaN  NaN  NaN  NaN   \n",
              "Current Stage                  QL  ...  NaN  NaN  NaN  NaN  NaN  NaN  NaN   \n",
              "Status                     Active  ...  NaN  NaN  NaN  NaN  NaN  NaN  NaN   \n",
              "QL Creation  Date       1/15/2024  ...  NaN  NaN  NaN  NaN  NaN  NaN  NaN   \n",
              "Lead Creation Date       1/5/2024  ...  NaN  NaN  NaN  NaN  NaN  NaN  NaN   \n",
              "Prospect Creation Date  7/19/2022  ...  NaN  NaN  NaN  NaN  NaN  NaN  NaN   \n",
              "Channel                     Email  ...  NaN  NaN  NaN  NaN  NaN  NaN  NaN   \n",
              "Lead Score                    1.0  ...  NaN  NaN  NaN  NaN  NaN  NaN  NaN   \n",
              "Lost Date                     NaN  ...  NaN  NaN  NaN  NaN  NaN  NaN  NaN   \n",
              "Nuture Date                   NaN  ...  NaN  NaN  NaN  NaN  NaN  NaN  NaN   \n",
              "Won Date                      NaN  ...  NaN  NaN  NaN  NaN  NaN  NaN  NaN   \n",
              "\n",
              "                        996  997  998  \n",
              "Sales Owner             NaN  NaN  NaN  \n",
              "Entity Name             NaN  NaN  NaN  \n",
              "Current Stage           NaN  NaN  NaN  \n",
              "Status                  NaN  NaN  NaN  \n",
              "QL Creation  Date       NaN  NaN  NaN  \n",
              "Lead Creation Date      NaN  NaN  NaN  \n",
              "Prospect Creation Date  NaN  NaN  NaN  \n",
              "Channel                 NaN  NaN  NaN  \n",
              "Lead Score              NaN  NaN  NaN  \n",
              "Lost Date               NaN  NaN  NaN  \n",
              "Nuture Date             NaN  NaN  NaN  \n",
              "Won Date                NaN  NaN  NaN  \n",
              "\n",
              "[12 rows x 999 columns]"
            ]
          },
          "execution_count": 5,
          "metadata": {},
          "output_type": "execute_result"
        }
      ],
      "source": [
        "#Checking every column using .T\n",
        "SQL.T"
      ]
    },
    {
      "cell_type": "code",
      "execution_count": null,
      "metadata": {
        "colab": {
          "base_uri": "https://localhost:8080/",
          "height": 337
        },
        "id": "d9KrDplxkUi3",
        "outputId": "c2f372fb-1dd9-4fe9-8f8d-1270517c7e09"
      },
      "outputs": [
        {
          "data": {
            "text/html": [
              "<div>\n",
              "<style scoped>\n",
              "    .dataframe tbody tr th:only-of-type {\n",
              "        vertical-align: middle;\n",
              "    }\n",
              "\n",
              "    .dataframe tbody tr th {\n",
              "        vertical-align: top;\n",
              "    }\n",
              "\n",
              "    .dataframe thead th {\n",
              "        text-align: right;\n",
              "    }\n",
              "</style>\n",
              "<table border=\"1\" class=\"dataframe\">\n",
              "  <thead>\n",
              "    <tr style=\"text-align: right;\">\n",
              "      <th></th>\n",
              "      <th>Sales Owner</th>\n",
              "      <th>Entity Name</th>\n",
              "      <th>Current Stage</th>\n",
              "      <th>Status</th>\n",
              "      <th>QL Creation  Date</th>\n",
              "      <th>Lead Creation Date</th>\n",
              "      <th>Prospect Creation Date</th>\n",
              "      <th>Channel</th>\n",
              "      <th>Lead Score</th>\n",
              "      <th>Lost Date</th>\n",
              "      <th>Nuture Date</th>\n",
              "      <th>Won Date</th>\n",
              "    </tr>\n",
              "  </thead>\n",
              "  <tbody>\n",
              "    <tr>\n",
              "      <th>995</th>\n",
              "      <td>NaN</td>\n",
              "      <td>NaN</td>\n",
              "      <td>NaN</td>\n",
              "      <td>NaN</td>\n",
              "      <td>NaN</td>\n",
              "      <td>NaN</td>\n",
              "      <td>NaN</td>\n",
              "      <td>NaN</td>\n",
              "      <td>NaN</td>\n",
              "      <td>NaN</td>\n",
              "      <td>NaN</td>\n",
              "      <td>NaN</td>\n",
              "    </tr>\n",
              "    <tr>\n",
              "      <th>996</th>\n",
              "      <td>NaN</td>\n",
              "      <td>NaN</td>\n",
              "      <td>NaN</td>\n",
              "      <td>NaN</td>\n",
              "      <td>NaN</td>\n",
              "      <td>NaN</td>\n",
              "      <td>NaN</td>\n",
              "      <td>NaN</td>\n",
              "      <td>NaN</td>\n",
              "      <td>NaN</td>\n",
              "      <td>NaN</td>\n",
              "      <td>NaN</td>\n",
              "    </tr>\n",
              "    <tr>\n",
              "      <th>997</th>\n",
              "      <td>NaN</td>\n",
              "      <td>NaN</td>\n",
              "      <td>NaN</td>\n",
              "      <td>NaN</td>\n",
              "      <td>NaN</td>\n",
              "      <td>NaN</td>\n",
              "      <td>NaN</td>\n",
              "      <td>NaN</td>\n",
              "      <td>NaN</td>\n",
              "      <td>NaN</td>\n",
              "      <td>NaN</td>\n",
              "      <td>NaN</td>\n",
              "    </tr>\n",
              "    <tr>\n",
              "      <th>998</th>\n",
              "      <td>NaN</td>\n",
              "      <td>NaN</td>\n",
              "      <td>NaN</td>\n",
              "      <td>NaN</td>\n",
              "      <td>NaN</td>\n",
              "      <td>NaN</td>\n",
              "      <td>NaN</td>\n",
              "      <td>NaN</td>\n",
              "      <td>NaN</td>\n",
              "      <td>NaN</td>\n",
              "      <td>NaN</td>\n",
              "      <td>NaN</td>\n",
              "    </tr>\n",
              "  </tbody>\n",
              "</table>\n",
              "</div>"
            ],
            "text/plain": [
              "    Sales Owner  Entity Name Current Stage Status QL Creation  Date  \\\n",
              "995         NaN          NaN           NaN    NaN               NaN   \n",
              "996         NaN          NaN           NaN    NaN               NaN   \n",
              "997         NaN          NaN           NaN    NaN               NaN   \n",
              "998         NaN          NaN           NaN    NaN               NaN   \n",
              "\n",
              "    Lead Creation Date Prospect Creation Date Channel  Lead Score Lost Date  \\\n",
              "995                NaN                    NaN     NaN         NaN       NaN   \n",
              "996                NaN                    NaN     NaN         NaN       NaN   \n",
              "997                NaN                    NaN     NaN         NaN       NaN   \n",
              "998                NaN                    NaN     NaN         NaN       NaN   \n",
              "\n",
              "    Nuture Date Won Date  \n",
              "995         NaN      NaN  \n",
              "996         NaN      NaN  \n",
              "997         NaN      NaN  \n",
              "998         NaN      NaN  "
            ]
          },
          "execution_count": 6,
          "metadata": {},
          "output_type": "execute_result"
        }
      ],
      "source": [
        "## Using .tail(4) to find below 4 rows\n",
        "SQL.tail(4)"
      ]
    },
    {
      "cell_type": "code",
      "execution_count": null,
      "metadata": {
        "colab": {
          "base_uri": "https://localhost:8080/"
        },
        "id": "WctIb6-vkX7l",
        "outputId": "05fe202e-f6df-409c-c89b-d99218dbba40"
      },
      "outputs": [
        {
          "name": "stdout",
          "output_type": "stream",
          "text": [
            "<class 'pandas.core.frame.DataFrame'>\n",
            "RangeIndex: 999 entries, 0 to 998\n",
            "Data columns (total 12 columns):\n",
            " #   Column                  Non-Null Count  Dtype  \n",
            "---  ------                  --------------  -----  \n",
            " 0   Sales Owner             846 non-null    object \n",
            " 1   Entity Name             846 non-null    float64\n",
            " 2   Current Stage           846 non-null    object \n",
            " 3   Status                  846 non-null    object \n",
            " 4   QL Creation  Date       846 non-null    object \n",
            " 5   Lead Creation Date      308 non-null    object \n",
            " 6   Prospect Creation Date  803 non-null    object \n",
            " 7   Channel                 846 non-null    object \n",
            " 8   Lead Score              846 non-null    float64\n",
            " 9   Lost Date               396 non-null    object \n",
            " 10  Nuture Date             271 non-null    object \n",
            " 11  Won Date                34 non-null     object \n",
            "dtypes: float64(2), object(10)\n",
            "memory usage: 93.8+ KB\n"
          ]
        }
      ],
      "source": [
        "#Extracting the data type non-null entries using .info\n",
        "SQL.info()"
      ]
    },
    {
      "cell_type": "code",
      "execution_count": null,
      "metadata": {
        "colab": {
          "base_uri": "https://localhost:8080/",
          "height": 1000
        },
        "id": "Lx4HekPhkaWm",
        "outputId": "a8a8ab8a-7ad9-4978-87f4-36b9b95682ef"
      },
      "outputs": [
        {
          "data": {
            "text/html": [
              "<div>\n",
              "<style scoped>\n",
              "    .dataframe tbody tr th:only-of-type {\n",
              "        vertical-align: middle;\n",
              "    }\n",
              "\n",
              "    .dataframe tbody tr th {\n",
              "        vertical-align: top;\n",
              "    }\n",
              "\n",
              "    .dataframe thead th {\n",
              "        text-align: right;\n",
              "    }\n",
              "</style>\n",
              "<table border=\"1\" class=\"dataframe\">\n",
              "  <thead>\n",
              "    <tr style=\"text-align: right;\">\n",
              "      <th></th>\n",
              "      <th>count</th>\n",
              "      <th>unique</th>\n",
              "      <th>top</th>\n",
              "      <th>freq</th>\n",
              "      <th>mean</th>\n",
              "      <th>std</th>\n",
              "      <th>min</th>\n",
              "      <th>25%</th>\n",
              "      <th>50%</th>\n",
              "      <th>75%</th>\n",
              "      <th>max</th>\n",
              "    </tr>\n",
              "  </thead>\n",
              "  <tbody>\n",
              "    <tr>\n",
              "      <th>Sales Owner</th>\n",
              "      <td>846</td>\n",
              "      <td>29</td>\n",
              "      <td>SAM</td>\n",
              "      <td>79</td>\n",
              "      <td>NaN</td>\n",
              "      <td>NaN</td>\n",
              "      <td>NaN</td>\n",
              "      <td>NaN</td>\n",
              "      <td>NaN</td>\n",
              "      <td>NaN</td>\n",
              "      <td>NaN</td>\n",
              "    </tr>\n",
              "    <tr>\n",
              "      <th>Entity Name</th>\n",
              "      <td>846.0</td>\n",
              "      <td>NaN</td>\n",
              "      <td>NaN</td>\n",
              "      <td>NaN</td>\n",
              "      <td>423.5</td>\n",
              "      <td>244.363459</td>\n",
              "      <td>1.0</td>\n",
              "      <td>212.25</td>\n",
              "      <td>423.5</td>\n",
              "      <td>634.75</td>\n",
              "      <td>846.0</td>\n",
              "    </tr>\n",
              "    <tr>\n",
              "      <th>Current Stage</th>\n",
              "      <td>846</td>\n",
              "      <td>5</td>\n",
              "      <td>QL</td>\n",
              "      <td>721</td>\n",
              "      <td>NaN</td>\n",
              "      <td>NaN</td>\n",
              "      <td>NaN</td>\n",
              "      <td>NaN</td>\n",
              "      <td>NaN</td>\n",
              "      <td>NaN</td>\n",
              "      <td>NaN</td>\n",
              "    </tr>\n",
              "    <tr>\n",
              "      <th>Status</th>\n",
              "      <td>846</td>\n",
              "      <td>4</td>\n",
              "      <td>Active</td>\n",
              "      <td>312</td>\n",
              "      <td>NaN</td>\n",
              "      <td>NaN</td>\n",
              "      <td>NaN</td>\n",
              "      <td>NaN</td>\n",
              "      <td>NaN</td>\n",
              "      <td>NaN</td>\n",
              "      <td>NaN</td>\n",
              "    </tr>\n",
              "    <tr>\n",
              "      <th>QL Creation  Date</th>\n",
              "      <td>846</td>\n",
              "      <td>204</td>\n",
              "      <td>5/12/2023</td>\n",
              "      <td>21</td>\n",
              "      <td>NaN</td>\n",
              "      <td>NaN</td>\n",
              "      <td>NaN</td>\n",
              "      <td>NaN</td>\n",
              "      <td>NaN</td>\n",
              "      <td>NaN</td>\n",
              "      <td>NaN</td>\n",
              "    </tr>\n",
              "    <tr>\n",
              "      <th>Lead Creation Date</th>\n",
              "      <td>308</td>\n",
              "      <td>158</td>\n",
              "      <td>9/8/2023</td>\n",
              "      <td>8</td>\n",
              "      <td>NaN</td>\n",
              "      <td>NaN</td>\n",
              "      <td>NaN</td>\n",
              "      <td>NaN</td>\n",
              "      <td>NaN</td>\n",
              "      <td>NaN</td>\n",
              "      <td>NaN</td>\n",
              "    </tr>\n",
              "    <tr>\n",
              "      <th>Prospect Creation Date</th>\n",
              "      <td>803</td>\n",
              "      <td>267</td>\n",
              "      <td>11/20/2023</td>\n",
              "      <td>42</td>\n",
              "      <td>NaN</td>\n",
              "      <td>NaN</td>\n",
              "      <td>NaN</td>\n",
              "      <td>NaN</td>\n",
              "      <td>NaN</td>\n",
              "      <td>NaN</td>\n",
              "      <td>NaN</td>\n",
              "    </tr>\n",
              "    <tr>\n",
              "      <th>Channel</th>\n",
              "      <td>846</td>\n",
              "      <td>12</td>\n",
              "      <td>LinkedIn</td>\n",
              "      <td>278</td>\n",
              "      <td>NaN</td>\n",
              "      <td>NaN</td>\n",
              "      <td>NaN</td>\n",
              "      <td>NaN</td>\n",
              "      <td>NaN</td>\n",
              "      <td>NaN</td>\n",
              "      <td>NaN</td>\n",
              "    </tr>\n",
              "    <tr>\n",
              "      <th>Lead Score</th>\n",
              "      <td>846.0</td>\n",
              "      <td>NaN</td>\n",
              "      <td>NaN</td>\n",
              "      <td>NaN</td>\n",
              "      <td>0.585851</td>\n",
              "      <td>0.298611</td>\n",
              "      <td>0.13</td>\n",
              "      <td>0.38</td>\n",
              "      <td>0.5</td>\n",
              "      <td>0.75</td>\n",
              "      <td>2.0</td>\n",
              "    </tr>\n",
              "    <tr>\n",
              "      <th>Lost Date</th>\n",
              "      <td>396</td>\n",
              "      <td>139</td>\n",
              "      <td>12/28/2023</td>\n",
              "      <td>13</td>\n",
              "      <td>NaN</td>\n",
              "      <td>NaN</td>\n",
              "      <td>NaN</td>\n",
              "      <td>NaN</td>\n",
              "      <td>NaN</td>\n",
              "      <td>NaN</td>\n",
              "      <td>NaN</td>\n",
              "    </tr>\n",
              "    <tr>\n",
              "      <th>Nuture Date</th>\n",
              "      <td>271</td>\n",
              "      <td>115</td>\n",
              "      <td>6/6/2023</td>\n",
              "      <td>12</td>\n",
              "      <td>NaN</td>\n",
              "      <td>NaN</td>\n",
              "      <td>NaN</td>\n",
              "      <td>NaN</td>\n",
              "      <td>NaN</td>\n",
              "      <td>NaN</td>\n",
              "      <td>NaN</td>\n",
              "    </tr>\n",
              "    <tr>\n",
              "      <th>Won Date</th>\n",
              "      <td>999</td>\n",
              "      <td>31</td>\n",
              "      <td>nan</td>\n",
              "      <td>965</td>\n",
              "      <td>NaN</td>\n",
              "      <td>NaN</td>\n",
              "      <td>NaN</td>\n",
              "      <td>NaN</td>\n",
              "      <td>NaN</td>\n",
              "      <td>NaN</td>\n",
              "      <td>NaN</td>\n",
              "    </tr>\n",
              "  </tbody>\n",
              "</table>\n",
              "</div>"
            ],
            "text/plain": [
              "                        count unique         top freq      mean         std  \\\n",
              "Sales Owner               846     29         SAM   79       NaN         NaN   \n",
              "Entity Name             846.0    NaN         NaN  NaN     423.5  244.363459   \n",
              "Current Stage             846      5          QL  721       NaN         NaN   \n",
              "Status                    846      4      Active  312       NaN         NaN   \n",
              "QL Creation  Date         846    204   5/12/2023   21       NaN         NaN   \n",
              "Lead Creation Date        308    158    9/8/2023    8       NaN         NaN   \n",
              "Prospect Creation Date    803    267  11/20/2023   42       NaN         NaN   \n",
              "Channel                   846     12    LinkedIn  278       NaN         NaN   \n",
              "Lead Score              846.0    NaN         NaN  NaN  0.585851    0.298611   \n",
              "Lost Date                 396    139  12/28/2023   13       NaN         NaN   \n",
              "Nuture Date               271    115    6/6/2023   12       NaN         NaN   \n",
              "Won Date                  999     31         nan  965       NaN         NaN   \n",
              "\n",
              "                         min     25%    50%     75%    max  \n",
              "Sales Owner              NaN     NaN    NaN     NaN    NaN  \n",
              "Entity Name              1.0  212.25  423.5  634.75  846.0  \n",
              "Current Stage            NaN     NaN    NaN     NaN    NaN  \n",
              "Status                   NaN     NaN    NaN     NaN    NaN  \n",
              "QL Creation  Date        NaN     NaN    NaN     NaN    NaN  \n",
              "Lead Creation Date       NaN     NaN    NaN     NaN    NaN  \n",
              "Prospect Creation Date   NaN     NaN    NaN     NaN    NaN  \n",
              "Channel                  NaN     NaN    NaN     NaN    NaN  \n",
              "Lead Score              0.13    0.38    0.5    0.75    2.0  \n",
              "Lost Date                NaN     NaN    NaN     NaN    NaN  \n",
              "Nuture Date              NaN     NaN    NaN     NaN    NaN  \n",
              "Won Date                 NaN     NaN    NaN     NaN    NaN  "
            ]
          },
          "execution_count": 9,
          "metadata": {},
          "output_type": "execute_result"
        }
      ],
      "source": [
        "\"\"\"Looking for min, max, mean, std values using .describe()\n",
        "NaN values for mean, unique, max, 25percentile, 50percentile & 75percentile indicates that those are categorical ones\"\"\"\n",
        "SQL.describe(include='all').T"
      ]
    },
    {
      "cell_type": "markdown",
      "metadata": {
        "id": "AYr3mWAUH4AQ"
      },
      "source": [
        "# Description of Data\n",
        "\n",
        "\n",
        "### Sales Owner-Sale sTeam member responsible for conversion of lead to customer\n",
        "### Entity Name- Name of the lead organization\n",
        "### Current Stage- Current Stage of the lead. The different stages being(Prospect-Lead-Qualified Lead-Customer)\n",
        "### :Prospect-Identified entities to whom organisation will connect to through different channels\n",
        "### :Lead-An Entity from which first level positive response is received\n",
        "### :Qualified Lead(QL)-Lead is qualified by Sales team ans a genuine lead through defined process\n",
        "### Channel- Channel through which lead was acquired\n",
        "### Lead Score- Score of lead is calculated through defined formula to understand business potential from the lead.Higher the lead score, better the lead."
      ]
    },
    {
      "cell_type": "markdown",
      "metadata": {
        "id": "BepjWqVdMrLD"
      },
      "source": [
        "# Let us try to understand the meaning of all columns of the dataframe.\n",
        "# For this we will use .unique() to see the unique values attained by each column."
      ]
    },
    {
      "cell_type": "code",
      "execution_count": null,
      "metadata": {
        "colab": {
          "base_uri": "https://localhost:8080/"
        },
        "id": "s8OuBmtmLIi_",
        "outputId": "cde2483f-85a7-4fc9-cce8-006bad448c6b"
      },
      "outputs": [
        {
          "data": {
            "text/plain": [
              "array(['SN', 'AT', 'YS', 'NP', 'SC', 'Ah', 'ATS', 'BK', 'SM', 'SAM',\n",
              "       'SKV', 'NT', 'RR', 'MS', 'AD', 'GM', 'SAS', 'IT', 'KK', 'AS', 'BS',\n",
              "       'SDS', 'DP', 'Rj', 'ARS', 'SHS', 'AM', 'Mn', 'AB', nan],\n",
              "      dtype=object)"
            ]
          },
          "execution_count": 10,
          "metadata": {},
          "output_type": "execute_result"
        }
      ],
      "source": [
        "SQL['Sales Owner'].unique()"
      ]
    },
    {
      "cell_type": "code",
      "execution_count": null,
      "metadata": {
        "colab": {
          "base_uri": "https://localhost:8080/"
        },
        "id": "UdSJcefwLMN1",
        "outputId": "fce70e69-5aa7-49db-edee-4441e15fe289"
      },
      "outputs": [
        {
          "data": {
            "text/plain": [
              "array([  1.,   2.,   3.,   4.,   5.,   6.,   7.,   8.,   9.,  10.,  11.,\n",
              "        12.,  13.,  14.,  15.,  16.,  17.,  18.,  19.,  20.,  21.,  22.,\n",
              "        23.,  24.,  25.,  26.,  27.,  28.,  29.,  30.,  31.,  32.,  33.,\n",
              "        34.,  35.,  36.,  37.,  38.,  39.,  40.,  41.,  42.,  43.,  44.,\n",
              "        45.,  46.,  47.,  48.,  49.,  50.,  51.,  52.,  53.,  54.,  55.,\n",
              "        56.,  57.,  58.,  59.,  60.,  61.,  62.,  63.,  64.,  65.,  66.,\n",
              "        67.,  68.,  69.,  70.,  71.,  72.,  73.,  74.,  75.,  76.,  77.,\n",
              "        78.,  79.,  80.,  81.,  82.,  83.,  84.,  85.,  86.,  87.,  88.,\n",
              "        89.,  90.,  91.,  92.,  93.,  94.,  95.,  96.,  97.,  98.,  99.,\n",
              "       100., 101., 102., 103., 104., 105., 106., 107., 108., 109., 110.,\n",
              "       111., 112., 113., 114., 115., 116., 117., 118., 119., 120., 121.,\n",
              "       122., 123., 124., 125., 126., 127., 128., 129., 130., 131., 132.,\n",
              "       133., 134., 135., 136., 137., 138., 139., 140., 141., 142., 143.,\n",
              "       144., 145., 146., 147., 148., 149., 150., 151., 152., 153., 154.,\n",
              "       155., 156., 157., 158., 159., 160., 161., 162., 163., 164., 165.,\n",
              "       166., 167., 168., 169., 170., 171., 172., 173., 174., 175., 176.,\n",
              "       177., 178., 179., 180., 181., 182., 183., 184., 185., 186., 187.,\n",
              "       188., 189., 190., 191., 192., 193., 194., 195., 196., 197., 198.,\n",
              "       199., 200., 201., 202., 203., 204., 205., 206., 207., 208., 209.,\n",
              "       210., 211., 212., 213., 214., 215., 216., 217., 218., 219., 220.,\n",
              "       221., 222., 223., 224., 225., 226., 227., 228., 229., 230., 231.,\n",
              "       232., 233., 234., 235., 236., 237., 238., 239., 240., 241., 242.,\n",
              "       243., 244., 245., 246., 247., 248., 249., 250., 251., 252., 253.,\n",
              "       254., 255., 256., 257., 258., 259., 260., 261., 262., 263., 264.,\n",
              "       265., 266., 267., 268., 269., 270., 271., 272., 273., 274., 275.,\n",
              "       276., 277., 278., 279., 280., 281., 282., 283., 284., 285., 286.,\n",
              "       287., 288., 289., 290., 291., 292., 293., 294., 295., 296., 297.,\n",
              "       298., 299., 300., 301., 302., 303., 304., 305., 306., 307., 308.,\n",
              "       309., 310., 311., 312., 313., 314., 315., 316., 317., 318., 319.,\n",
              "       320., 321., 322., 323., 324., 325., 326., 327., 328., 329., 330.,\n",
              "       331., 332., 333., 334., 335., 336., 337., 338., 339., 340., 341.,\n",
              "       342., 343., 344., 345., 346., 347., 348., 349., 350., 351., 352.,\n",
              "       353., 354., 355., 356., 357., 358., 359., 360., 361., 362., 363.,\n",
              "       364., 365., 366., 367., 368., 369., 370., 371., 372., 373., 374.,\n",
              "       375., 376., 377., 378., 379., 380., 381., 382., 383., 384., 385.,\n",
              "       386., 387., 388., 389., 390., 391., 392., 393., 394., 395., 396.,\n",
              "       397., 398., 399., 400., 401., 402., 403., 404., 405., 406., 407.,\n",
              "       408., 409., 410., 411., 412., 413., 414., 415., 416., 417., 418.,\n",
              "       419., 420., 421., 422., 423., 424., 425., 426., 427., 428., 429.,\n",
              "       430., 431., 432., 433., 434., 435., 436., 437., 438., 439., 440.,\n",
              "       441., 442., 443., 444., 445., 446., 447., 448., 449., 450., 451.,\n",
              "       452., 453., 454., 455., 456., 457., 458., 459., 460., 461., 462.,\n",
              "       463., 464., 465., 466., 467., 468., 469., 470., 471., 472., 473.,\n",
              "       474., 475., 476., 477., 478., 479., 480., 481., 482., 483., 484.,\n",
              "       485., 486., 487., 488., 489., 490., 491., 492., 493., 494., 495.,\n",
              "       496., 497., 498., 499., 500., 501., 502., 503., 504., 505., 506.,\n",
              "       507., 508., 509., 510., 511., 512., 513., 514., 515., 516., 517.,\n",
              "       518., 519., 520., 521., 522., 523., 524., 525., 526., 527., 528.,\n",
              "       529., 530., 531., 532., 533., 534., 535., 536., 537., 538., 539.,\n",
              "       540., 541., 542., 543., 544., 545., 546., 547., 548., 549., 550.,\n",
              "       551., 552., 553., 554., 555., 556., 557., 558., 559., 560., 561.,\n",
              "       562., 563., 564., 565., 566., 567., 568., 569., 570., 571., 572.,\n",
              "       573., 574., 575., 576., 577., 578., 579., 580., 581., 582., 583.,\n",
              "       584., 585., 586., 587., 588., 589., 590., 591., 592., 593., 594.,\n",
              "       595., 596., 597., 598., 599., 600., 601., 602., 603., 604., 605.,\n",
              "       606., 607., 608., 609., 610., 611., 612., 613., 614., 615., 616.,\n",
              "       617., 618., 619., 620., 621., 622., 623., 624., 625., 626., 627.,\n",
              "       628., 629., 630., 631., 632., 633., 634., 635., 636., 637., 638.,\n",
              "       639., 640., 641., 642., 643., 644., 645., 646., 647., 648., 649.,\n",
              "       650., 651., 652., 653., 654., 655., 656., 657., 658., 659., 660.,\n",
              "       661., 662., 663., 664., 665., 666., 667., 668., 669., 670., 671.,\n",
              "       672., 673., 674., 675., 676., 677., 678., 679., 680., 681., 682.,\n",
              "       683., 684., 685., 686., 687., 688., 689., 690., 691., 692., 693.,\n",
              "       694., 695., 696., 697., 698., 699., 700., 701., 702., 703., 704.,\n",
              "       705., 706., 707., 708., 709., 710., 711., 712., 713., 714., 715.,\n",
              "       716., 717., 718., 719., 720., 721., 722., 723., 724., 725., 726.,\n",
              "       727., 728., 729., 730., 731., 732., 733., 734., 735., 736., 737.,\n",
              "       738., 739., 740., 741., 742., 743., 744., 745., 746., 747., 748.,\n",
              "       749., 750., 751., 752., 753., 754., 755., 756., 757., 758., 759.,\n",
              "       760., 761., 762., 763., 764., 765., 766., 767., 768., 769., 770.,\n",
              "       771., 772., 773., 774., 775., 776., 777., 778., 779., 780., 781.,\n",
              "       782., 783., 784., 785., 786., 787., 788., 789., 790., 791., 792.,\n",
              "       793., 794., 795., 796., 797., 798., 799., 800., 801., 802., 803.,\n",
              "       804., 805., 806., 807., 808., 809., 810., 811., 812., 813., 814.,\n",
              "       815., 816., 817., 818., 819., 820., 821., 822., 823., 824., 825.,\n",
              "       826., 827., 828., 829., 830., 831., 832., 833., 834., 835., 836.,\n",
              "       837., 838., 839., 840., 841., 842., 843., 844., 845., 846.,  nan])"
            ]
          },
          "execution_count": 11,
          "metadata": {},
          "output_type": "execute_result"
        }
      ],
      "source": [
        "SQL['Entity Name'].unique()"
      ]
    },
    {
      "cell_type": "code",
      "execution_count": null,
      "metadata": {
        "colab": {
          "base_uri": "https://localhost:8080/"
        },
        "id": "OooKYua1N30K",
        "outputId": "96002913-9a08-4404-db81-cbcf2a07b3e1"
      },
      "outputs": [
        {
          "data": {
            "text/plain": [
              "array(['QL', 'RQL', 'Customer', 'Proposal', 'UQL', nan], dtype=object)"
            ]
          },
          "execution_count": 12,
          "metadata": {},
          "output_type": "execute_result"
        }
      ],
      "source": [
        "SQL['Current Stage'].unique()"
      ]
    },
    {
      "cell_type": "code",
      "execution_count": null,
      "metadata": {
        "colab": {
          "base_uri": "https://localhost:8080/"
        },
        "id": "mTF_cD24N_8_",
        "outputId": "0fb37995-4c85-446f-ff7e-febdaa66d7dd"
      },
      "outputs": [
        {
          "data": {
            "text/plain": [
              "array(['Active', 'Free', 'Lost', 'Nurturable', nan], dtype=object)"
            ]
          },
          "execution_count": 13,
          "metadata": {},
          "output_type": "execute_result"
        }
      ],
      "source": [
        "SQL['Status'].unique()"
      ]
    },
    {
      "cell_type": "code",
      "execution_count": null,
      "metadata": {
        "colab": {
          "base_uri": "https://localhost:8080/"
        },
        "id": "jOuZ2qK5OI1O",
        "outputId": "1edf0a5d-17ea-49c4-859a-8ea23453616a"
      },
      "outputs": [
        {
          "data": {
            "text/plain": [
              "array(['Email', 'No Channel Data Available', 'Website', 'LinkedIn',\n",
              "       'Referral', 'Bidding', 'Apollo.io', 'Tender', 'Paid', 'Nurturing',\n",
              "       'Cold Call ', 'Job Board', nan], dtype=object)"
            ]
          },
          "execution_count": 14,
          "metadata": {},
          "output_type": "execute_result"
        }
      ],
      "source": [
        "SQL['Channel'].unique()"
      ]
    },
    {
      "cell_type": "code",
      "execution_count": null,
      "metadata": {
        "colab": {
          "base_uri": "https://localhost:8080/"
        },
        "id": "QnVJgGr8OPEP",
        "outputId": "29476441-3d4e-4ef9-a837-f4ad324f0752"
      },
      "outputs": [
        {
          "data": {
            "text/plain": [
              "array([0.75, 1.25, 0.56, 0.25, 0.94, 1.5 , 0.5 , 1.  , 0.47, 0.38, 1.13,\n",
              "       0.63, 0.19, 0.13, 0.7 , 1.31, 0.84, 1.75, 0.88, 0.98, 0.66, 0.31,\n",
              "       0.28, 2.  ,  nan])"
            ]
          },
          "execution_count": 15,
          "metadata": {},
          "output_type": "execute_result"
        }
      ],
      "source": [
        "SQL['Lead Score'].unique()"
      ]
    },
    {
      "cell_type": "code",
      "execution_count": null,
      "metadata": {
        "id": "sRDYdG0_SBqr"
      },
      "outputs": [],
      "source": [
        "##Creating a copy of the data\n",
        "sql = SQL.copy()"
      ]
    },
    {
      "cell_type": "markdown",
      "metadata": {
        "id": "Bo1odbjQShC3"
      },
      "source": [
        "# **Cleaning Data**\n",
        "\n",
        "\n",
        "\n",
        "*   Cleaning data is the crucial step before performing EDA as it will remove the ambigous & irrelevant observation data that can affect the outcome of EDA.\n",
        "\n",
        "\n",
        "*   While cleaning data we will perform following steps:\n",
        "\n",
        "  * Remove duplicate rows.\n",
        "  * Handling missing values.\n",
        "  * Convert columns to appropriate datatypes.\n",
        "  * Adding important columns.\n",
        "\n",
        "\n",
        "\n"
      ]
    },
    {
      "cell_type": "markdown",
      "metadata": {
        "id": "rjvPrdhZ1EEm"
      },
      "source": [
        "## **Removing duplicate rows**\n"
      ]
    },
    {
      "cell_type": "code",
      "execution_count": null,
      "metadata": {
        "id": "l2Efy6U-dbUp",
        "outputId": "d43b4380-6285-4688-ec8d-94a766cd1fc0"
      },
      "outputs": [
        {
          "data": {
            "text/plain": [
              "Sales Owner               153\n",
              "Entity Name               153\n",
              "Current Stage             153\n",
              "Status                    153\n",
              "QL Creation  Date         153\n",
              "Lead Creation Date        691\n",
              "Prospect Creation Date    196\n",
              "Channel                   153\n",
              "Lead Score                153\n",
              "Lost Date                 603\n",
              "Nuture Date               728\n",
              "Won Date                    0\n",
              "dtype: int64"
            ]
          },
          "execution_count": 17,
          "metadata": {},
          "output_type": "execute_result"
        }
      ],
      "source": [
        "#check for null values\n",
        "pd.isnull(sql).sum()"
      ]
    },
    {
      "cell_type": "code",
      "execution_count": null,
      "metadata": {
        "colab": {
          "base_uri": "https://localhost:8080/"
        },
        "id": "Z7tk3bbR7skE",
        "outputId": "c699c5a1-f421-481c-df72-05075248b24b"
      },
      "outputs": [
        {
          "data": {
            "text/plain": [
              "(999, 12)"
            ]
          },
          "execution_count": 18,
          "metadata": {},
          "output_type": "execute_result"
        }
      ],
      "source": [
        "sql.shape"
      ]
    },
    {
      "cell_type": "code",
      "execution_count": null,
      "metadata": {
        "id": "OYQFuRZYdbUp"
      },
      "outputs": [],
      "source": [
        "# drop null values\n",
        "sql.dropna(inplace=True)"
      ]
    },
    {
      "cell_type": "code",
      "execution_count": null,
      "metadata": {
        "colab": {
          "base_uri": "https://localhost:8080/"
        },
        "id": "r3HpHiICcCs6",
        "outputId": "e7bc30db-bcb9-48fb-c9ad-fc6a648c8d63"
      },
      "outputs": [
        {
          "data": {
            "text/plain": [
              "Sales Owner               0\n",
              "Entity Name               0\n",
              "Current Stage             0\n",
              "Status                    0\n",
              "QL Creation  Date         0\n",
              "Lead Creation Date        0\n",
              "Prospect Creation Date    0\n",
              "Channel                   0\n",
              "Lead Score                0\n",
              "Lost Date                 0\n",
              "Nuture Date               0\n",
              "Won Date                  0\n",
              "dtype: int64"
            ]
          },
          "execution_count": 20,
          "metadata": {},
          "output_type": "execute_result"
        }
      ],
      "source": [
        "## Checking for any Null values\n",
        "sql.isnull().sum().sort_values(ascending = False)[0:12]"
      ]
    },
    {
      "cell_type": "markdown",
      "metadata": {
        "id": "jegsVcdYo7MR"
      },
      "source": [
        "# EDA (Exploratory Data Analysis)\n"
      ]
    },
    {
      "cell_type": "markdown",
      "metadata": {
        "id": "KAxWR-8sdbUr"
      },
      "source": [
        "# 1"
      ]
    },
    {
      "cell_type": "code",
      "execution_count": null,
      "metadata": {
        "id": "cvv5CzG6dbUr",
        "outputId": "be160aec-63b3-49ab-a760-d1f2b548260b"
      },
      "outputs": [
        {
          "data": {
            "text/html": [
              "<div>\n",
              "<style scoped>\n",
              "    .dataframe tbody tr th:only-of-type {\n",
              "        vertical-align: middle;\n",
              "    }\n",
              "\n",
              "    .dataframe tbody tr th {\n",
              "        vertical-align: top;\n",
              "    }\n",
              "\n",
              "    .dataframe thead th {\n",
              "        text-align: right;\n",
              "    }\n",
              "</style>\n",
              "<table border=\"1\" class=\"dataframe\">\n",
              "  <thead>\n",
              "    <tr style=\"text-align: right;\">\n",
              "      <th></th>\n",
              "      <th>count</th>\n",
              "      <th>unique</th>\n",
              "      <th>top</th>\n",
              "      <th>freq</th>\n",
              "      <th>mean</th>\n",
              "      <th>std</th>\n",
              "      <th>min</th>\n",
              "      <th>25%</th>\n",
              "      <th>50%</th>\n",
              "      <th>75%</th>\n",
              "      <th>max</th>\n",
              "    </tr>\n",
              "  </thead>\n",
              "  <tbody>\n",
              "    <tr>\n",
              "      <th>Sales Owner</th>\n",
              "      <td>846</td>\n",
              "      <td>29</td>\n",
              "      <td>SAM</td>\n",
              "      <td>79</td>\n",
              "      <td>NaN</td>\n",
              "      <td>NaN</td>\n",
              "      <td>NaN</td>\n",
              "      <td>NaN</td>\n",
              "      <td>NaN</td>\n",
              "      <td>NaN</td>\n",
              "      <td>NaN</td>\n",
              "    </tr>\n",
              "    <tr>\n",
              "      <th>Entity Name</th>\n",
              "      <td>846.0</td>\n",
              "      <td>NaN</td>\n",
              "      <td>NaN</td>\n",
              "      <td>NaN</td>\n",
              "      <td>423.5</td>\n",
              "      <td>244.363459</td>\n",
              "      <td>1.0</td>\n",
              "      <td>212.25</td>\n",
              "      <td>423.5</td>\n",
              "      <td>634.75</td>\n",
              "      <td>846.0</td>\n",
              "    </tr>\n",
              "    <tr>\n",
              "      <th>Current Stage</th>\n",
              "      <td>846</td>\n",
              "      <td>5</td>\n",
              "      <td>QL</td>\n",
              "      <td>721</td>\n",
              "      <td>NaN</td>\n",
              "      <td>NaN</td>\n",
              "      <td>NaN</td>\n",
              "      <td>NaN</td>\n",
              "      <td>NaN</td>\n",
              "      <td>NaN</td>\n",
              "      <td>NaN</td>\n",
              "    </tr>\n",
              "    <tr>\n",
              "      <th>Status</th>\n",
              "      <td>846</td>\n",
              "      <td>4</td>\n",
              "      <td>Active</td>\n",
              "      <td>312</td>\n",
              "      <td>NaN</td>\n",
              "      <td>NaN</td>\n",
              "      <td>NaN</td>\n",
              "      <td>NaN</td>\n",
              "      <td>NaN</td>\n",
              "      <td>NaN</td>\n",
              "      <td>NaN</td>\n",
              "    </tr>\n",
              "    <tr>\n",
              "      <th>QL Creation  Date</th>\n",
              "      <td>846</td>\n",
              "      <td>204</td>\n",
              "      <td>5/12/2023</td>\n",
              "      <td>21</td>\n",
              "      <td>NaN</td>\n",
              "      <td>NaN</td>\n",
              "      <td>NaN</td>\n",
              "      <td>NaN</td>\n",
              "      <td>NaN</td>\n",
              "      <td>NaN</td>\n",
              "      <td>NaN</td>\n",
              "    </tr>\n",
              "    <tr>\n",
              "      <th>Lead Creation Date</th>\n",
              "      <td>308</td>\n",
              "      <td>158</td>\n",
              "      <td>9/8/2023</td>\n",
              "      <td>8</td>\n",
              "      <td>NaN</td>\n",
              "      <td>NaN</td>\n",
              "      <td>NaN</td>\n",
              "      <td>NaN</td>\n",
              "      <td>NaN</td>\n",
              "      <td>NaN</td>\n",
              "      <td>NaN</td>\n",
              "    </tr>\n",
              "    <tr>\n",
              "      <th>Prospect Creation Date</th>\n",
              "      <td>803</td>\n",
              "      <td>267</td>\n",
              "      <td>11/20/2023</td>\n",
              "      <td>42</td>\n",
              "      <td>NaN</td>\n",
              "      <td>NaN</td>\n",
              "      <td>NaN</td>\n",
              "      <td>NaN</td>\n",
              "      <td>NaN</td>\n",
              "      <td>NaN</td>\n",
              "      <td>NaN</td>\n",
              "    </tr>\n",
              "    <tr>\n",
              "      <th>Channel</th>\n",
              "      <td>846</td>\n",
              "      <td>12</td>\n",
              "      <td>LinkedIn</td>\n",
              "      <td>278</td>\n",
              "      <td>NaN</td>\n",
              "      <td>NaN</td>\n",
              "      <td>NaN</td>\n",
              "      <td>NaN</td>\n",
              "      <td>NaN</td>\n",
              "      <td>NaN</td>\n",
              "      <td>NaN</td>\n",
              "    </tr>\n",
              "    <tr>\n",
              "      <th>Lead Score</th>\n",
              "      <td>846.0</td>\n",
              "      <td>NaN</td>\n",
              "      <td>NaN</td>\n",
              "      <td>NaN</td>\n",
              "      <td>0.585851</td>\n",
              "      <td>0.298611</td>\n",
              "      <td>0.13</td>\n",
              "      <td>0.38</td>\n",
              "      <td>0.5</td>\n",
              "      <td>0.75</td>\n",
              "      <td>2.0</td>\n",
              "    </tr>\n",
              "    <tr>\n",
              "      <th>Lost Date</th>\n",
              "      <td>396</td>\n",
              "      <td>139</td>\n",
              "      <td>12/28/2023</td>\n",
              "      <td>13</td>\n",
              "      <td>NaN</td>\n",
              "      <td>NaN</td>\n",
              "      <td>NaN</td>\n",
              "      <td>NaN</td>\n",
              "      <td>NaN</td>\n",
              "      <td>NaN</td>\n",
              "      <td>NaN</td>\n",
              "    </tr>\n",
              "    <tr>\n",
              "      <th>Nuture Date</th>\n",
              "      <td>271</td>\n",
              "      <td>115</td>\n",
              "      <td>6/6/2023</td>\n",
              "      <td>12</td>\n",
              "      <td>NaN</td>\n",
              "      <td>NaN</td>\n",
              "      <td>NaN</td>\n",
              "      <td>NaN</td>\n",
              "      <td>NaN</td>\n",
              "      <td>NaN</td>\n",
              "      <td>NaN</td>\n",
              "    </tr>\n",
              "    <tr>\n",
              "      <th>Won Date</th>\n",
              "      <td>999</td>\n",
              "      <td>31</td>\n",
              "      <td>nan</td>\n",
              "      <td>965</td>\n",
              "      <td>NaN</td>\n",
              "      <td>NaN</td>\n",
              "      <td>NaN</td>\n",
              "      <td>NaN</td>\n",
              "      <td>NaN</td>\n",
              "      <td>NaN</td>\n",
              "      <td>NaN</td>\n",
              "    </tr>\n",
              "  </tbody>\n",
              "</table>\n",
              "</div>"
            ],
            "text/plain": [
              "                        count unique         top freq      mean         std  \\\n",
              "Sales Owner               846     29         SAM   79       NaN         NaN   \n",
              "Entity Name             846.0    NaN         NaN  NaN     423.5  244.363459   \n",
              "Current Stage             846      5          QL  721       NaN         NaN   \n",
              "Status                    846      4      Active  312       NaN         NaN   \n",
              "QL Creation  Date         846    204   5/12/2023   21       NaN         NaN   \n",
              "Lead Creation Date        308    158    9/8/2023    8       NaN         NaN   \n",
              "Prospect Creation Date    803    267  11/20/2023   42       NaN         NaN   \n",
              "Channel                   846     12    LinkedIn  278       NaN         NaN   \n",
              "Lead Score              846.0    NaN         NaN  NaN  0.585851    0.298611   \n",
              "Lost Date                 396    139  12/28/2023   13       NaN         NaN   \n",
              "Nuture Date               271    115    6/6/2023   12       NaN         NaN   \n",
              "Won Date                  999     31         nan  965       NaN         NaN   \n",
              "\n",
              "                         min     25%    50%     75%    max  \n",
              "Sales Owner              NaN     NaN    NaN     NaN    NaN  \n",
              "Entity Name              1.0  212.25  423.5  634.75  846.0  \n",
              "Current Stage            NaN     NaN    NaN     NaN    NaN  \n",
              "Status                   NaN     NaN    NaN     NaN    NaN  \n",
              "QL Creation  Date        NaN     NaN    NaN     NaN    NaN  \n",
              "Lead Creation Date       NaN     NaN    NaN     NaN    NaN  \n",
              "Prospect Creation Date   NaN     NaN    NaN     NaN    NaN  \n",
              "Channel                  NaN     NaN    NaN     NaN    NaN  \n",
              "Lead Score              0.13    0.38    0.5    0.75    2.0  \n",
              "Lost Date                NaN     NaN    NaN     NaN    NaN  \n",
              "Nuture Date              NaN     NaN    NaN     NaN    NaN  \n",
              "Won Date                 NaN     NaN    NaN     NaN    NaN  "
            ]
          },
          "execution_count": 21,
          "metadata": {},
          "output_type": "execute_result"
        }
      ],
      "source": [
        "SQL.describe(include='all').T"
      ]
    },
    {
      "cell_type": "code",
      "execution_count": null,
      "metadata": {
        "id": "gLaIg-wUdbUr",
        "outputId": "5c47d513-1903-4faa-c502-17e76df59688"
      },
      "outputs": [
        {
          "name": "stdout",
          "output_type": "stream",
          "text": [
            "The Mean Lead Score is 0.5858510638297872\n"
          ]
        }
      ],
      "source": [
        "#By Applying .mean() function will get the mean value of [Lead Score] column.\n",
        "m = SQL['Lead Score'].mean()\n",
        "print('The Mean Lead Score is',m)"
      ]
    },
    {
      "cell_type": "code",
      "execution_count": null,
      "metadata": {
        "id": "Kvb-zaqhdbUs",
        "outputId": "80105cf9-a3aa-438c-9611-746f8754a129"
      },
      "outputs": [
        {
          "data": {
            "image/png": "[encoded data removed]",
            "text/plain": [
              "<Figure size 1000x500 with 1 Axes>"
            ]
          },
          "metadata": {},
          "output_type": "display_data"
        }
      ],
      "source": [
        "#As the there too many values for the ditribution, the best plot here is KDE to display the distribution\n",
        "\n",
        "plt.figure(figsize = (10,5))\n",
        "sns.kdeplot( x= SQL['Lead Score'], fill = True, color = 'cyan', edgecolor = 'blue')\n",
        "plt.axvline(x=m, linewidth = 2 , color = 'red', linestyle = '-.' , label = 'Avg Income')\n",
        "plt.title('Distribution Of Mean Lead Score')\n",
        "plt.xlabel('Mean Lead Score')\n",
        "plt.ylabel('Number')\n",
        "plt.legend()\n",
        "plt.show()"
      ]
    },
    {
      "cell_type": "markdown",
      "metadata": {
        "id": "yiGSgO5fdbUs"
      },
      "source": [
        "# So, here we can see that the mean lead score is 0.58586 approximately."
      ]
    },
    {
      "cell_type": "markdown",
      "metadata": {
        "id": "UpFD3hcldbUs"
      },
      "source": [
        "# 2"
      ]
    },
    {
      "cell_type": "code",
      "execution_count": null,
      "metadata": {
        "colab": {
          "base_uri": "https://localhost:8080/"
        },
        "id": "w7pxuhLkqBTf",
        "outputId": "5b1c5822-aa87-42b1-f2e4-4d343154880d",
        "scrolled": false
      },
      "outputs": [
        {
          "name": "stdout",
          "output_type": "stream",
          "text": [
            "                      Channel  Most_channel\n",
            "5                    LinkedIn           278\n",
            "3                       Email           272\n",
            "11                    Website           113\n",
            "1                     Bidding            74\n",
            "0                   Apollo.io            40\n",
            "6   No Channel Data Available            31\n",
            "10                     Tender            19\n",
            "8                        Paid            13\n",
            "9                    Referral             3\n",
            "2                  Cold Call              1\n",
            "4                   Job Board             1\n",
            "7                   Nurturing             1\n"
          ]
        },
        {
          "data": {
            "text/plain": [
              "Text(0.5, 1.0, 'Most leads made by the Channel')"
            ]
          },
          "execution_count": 37,
          "metadata": {},
          "output_type": "execute_result"
        },
        {
          "data": {
            "image/png": "[encoded data removed]",
            "text/plain": [
              "<Figure size 1400x1000 with 1 Axes>"
            ]
          },
          "metadata": {},
          "output_type": "display_data"
        }
      ],
      "source": [
        "highest_channel = SQL.groupby(['Channel'])['Channel'].agg({'count'}).reset_index().rename(columns={'count': \"Most_channel\" }).sort_values(by='Most_channel',ascending=False)\n",
        "#print(highest_channel)\n",
        "\n",
        "highest_channel.drop(highest_channel[highest_channel['Channel']==0].index,inplace=True)\n",
        "print(highest_channel[:14])\n",
        "top_channels = highest_channel[:15]\n",
        "\n",
        "### visualizing the graph\n",
        "plt.figure(figsize=(14,10))\n",
        "sns.barplot(x= top_channels['Channel'], y= top_channels['Most_channel'], order = top_channels['Channel'])\n",
        "plt.xlabel('Channel')\n",
        "plt.ylabel('Number of leads')\n",
        "plt.title('Most leads made by the Channel')"
      ]
    },
    {
      "cell_type": "markdown",
      "metadata": {
        "id": "lRwKcpBNdbU1"
      },
      "source": [
        "# Here, we can see that the most leads are coming from LinkedIn."
      ]
    },
    {
      "cell_type": "markdown",
      "metadata": {
        "id": "qXradrgYdbU2"
      },
      "source": [
        "# 3"
      ]
    },
    {
      "cell_type": "code",
      "execution_count": null,
      "metadata": {
        "id": "RGPI_opDdbU2",
        "outputId": "54de5164-46e6-44d9-bd93-cc8649cd4862"
      },
      "outputs": [
        {
          "name": "stdout",
          "output_type": "stream",
          "text": [
            "       Status  Most_Status\n",
            "0      Active          312\n",
            "2        Lost          308\n",
            "3  Nurturable          225\n",
            "1        Free            1\n"
          ]
        }
      ],
      "source": [
        "highest_status = SQL.groupby(['Status'])['Status'].agg({'count'}).reset_index().rename(columns={'count': \"Most_Status\" }).sort_values(by='Most_Status',ascending=False)\n",
        "#print(highest_status)\n",
        "\n",
        "highest_status.drop(highest_status[highest_status['Status']==0].index,inplace=True)\n",
        "print(highest_status[:6])\n",
        "top_status = highest_status[:15]"
      ]
    },
    {
      "cell_type": "code",
      "execution_count": null,
      "metadata": {
        "scrolled": false,
        "id": "RuB5RJxodbU2",
        "outputId": "7f6b9374-882c-4226-a326-1147c9da7391"
      },
      "outputs": [
        {
          "data": {
            "text/plain": [
              "Text(0.5, 1.0, 'Most leads status')"
            ]
          },
          "execution_count": 44,
          "metadata": {},
          "output_type": "execute_result"
        },
        {
          "data": {
            "image/png": "[encoded data removed]",
            "text/plain": [
              "<Figure size 1500x1000 with 1 Axes>"
            ]
          },
          "metadata": {},
          "output_type": "display_data"
        }
      ],
      "source": [
        "### visualizing the graph\n",
        "plt.figure(figsize=(15,10))\n",
        "sns.barplot(x= top_status['Status'], y= top_status['Most_Status'], order = top_status['Status'])\n",
        "plt.xlabel('Status')\n",
        "plt.ylabel('Number of leads')\n",
        "plt.title('Most leads status')"
      ]
    },
    {
      "cell_type": "markdown",
      "metadata": {
        "id": "lN5QFOeKdbU3"
      },
      "source": [
        "# Here we can see that the most of the leads are active."
      ]
    },
    {
      "cell_type": "markdown",
      "metadata": {
        "id": "0jNYii7hdbU3"
      },
      "source": [
        "# 4"
      ]
    },
    {
      "cell_type": "code",
      "execution_count": null,
      "metadata": {
        "colab": {
          "base_uri": "https://localhost:8080/"
        },
        "id": "xrj0NngX3xTA",
        "outputId": "749bde63-54cc-4f8f-c27d-63478daf2302"
      },
      "outputs": [
        {
          "name": "stdout",
          "output_type": "stream",
          "text": [
            "  Current Stage  Most_Current Stage\n",
            "2            QL                 721\n",
            "1      Proposal                  64\n",
            "0      Customer                  45\n",
            "4           UQL                  10\n",
            "3           RQL                   6\n"
          ]
        }
      ],
      "source": [
        "highest_CurrentStage = SQL.groupby(['Current Stage'])['Current Stage'].agg({'count'}).reset_index().rename(columns={'count': \"Most_Current Stage\" }).sort_values(by='Most_Current Stage',ascending=False)\n",
        "#print(highest_Current Stage)\n",
        "\n",
        "highest_CurrentStage.drop(highest_CurrentStage[highest_CurrentStage['Current Stage']==0].index,inplace=True)\n",
        "print(highest_CurrentStage[:6])\n",
        "top_CurrentStage = highest_CurrentStage[:15]\n"
      ]
    },
    {
      "cell_type": "code",
      "execution_count": null,
      "metadata": {
        "scrolled": false,
        "id": "M1ql-8rodbU4",
        "outputId": "78adc3de-d60f-4710-9c21-70331bc8c57e"
      },
      "outputs": [
        {
          "data": {
            "text/plain": [
              "Text(0.5, 1.0, 'Current Stage of the leads')"
            ]
          },
          "execution_count": 49,
          "metadata": {},
          "output_type": "execute_result"
        },
        {
          "data": {
            "image/png": "[encoded data removed]",
            "text/plain": [
              "<Figure size 1500x1000 with 1 Axes>"
            ]
          },
          "metadata": {},
          "output_type": "display_data"
        }
      ],
      "source": [
        "### visualizing the graph\n",
        "plt.figure(figsize=(15,10))\n",
        "sns.barplot(x= top_CurrentStage['Current Stage'], y= top_CurrentStage['Most_Current Stage'], order = top_CurrentStage['Current Stage'])\n",
        "plt.xlabel('Current Stage')\n",
        "plt.ylabel('Leads')\n",
        "plt.title('Current Stage of the leads')"
      ]
    },
    {
      "cell_type": "markdown",
      "metadata": {
        "id": "fjIOrBS5dbU4"
      },
      "source": [
        "# We can see that the Current Stage of most of the leads is in QL (Qualified Lead) level."
      ]
    },
    {
      "cell_type": "markdown",
      "metadata": {
        "id": "zFJzHqRRKKn4"
      },
      "source": [
        "# 5"
      ]
    },
    {
      "cell_type": "code",
      "execution_count": null,
      "metadata": {
        "colab": {
          "base_uri": "https://localhost:8080/"
        },
        "id": "ID-04ahb5Bak",
        "outputId": "dab2c3ce-2703-4f99-a465-27979ef470de"
      },
      "outputs": [
        {
          "name": "stdout",
          "output_type": "stream",
          "text": [
            "   Sales Owner  Most_Sales Owner\n",
            "20         SAM                79\n",
            "17          NT                77\n",
            "27          SN                76\n",
            "26          SM                75\n",
            "22          SC                74\n",
            "8           BK                68\n",
            "5           AT                50\n",
            "18          RR                46\n",
            "28          YS                45\n",
            "25         SKV                45\n",
            "7           Ah                40\n",
            "1           AD                38\n",
            "12          IT                26\n",
            "13          KK                18\n",
            "21         SAS                16\n",
            "14          MS                14\n",
            "11          GM                12\n",
            "16          NP                 9\n",
            "23         SDS                 9\n",
            "15          Mn                 7\n",
            "4           AS                 6\n",
            "10          DP                 4\n",
            "6          ATS                 4\n",
            "9           BS                 2\n",
            "3          ARS                 2\n",
            "19          Rj                 1\n",
            "24         SHS                 1\n",
            "2           AM                 1\n",
            "0           AB                 1\n"
          ]
        }
      ],
      "source": [
        "highest_SalesOwner = SQL.groupby(['Sales Owner'])['Sales Owner'].agg({'count'}).reset_index().rename(columns={'count': \"Most_Sales Owner\" }).sort_values(by='Most_Sales Owner',ascending=False)\n",
        "#print(highest_Sales Owner)\n",
        "\n",
        "highest_SalesOwner.drop(highest_SalesOwner[highest_SalesOwner['Sales Owner']==0].index,inplace=True)\n",
        "print(highest_SalesOwner[:30])\n",
        "top_SalesOwner = highest_SalesOwner[:30]"
      ]
    },
    {
      "cell_type": "code",
      "execution_count": null,
      "metadata": {
        "id": "Ayi4rAH-dbU5",
        "outputId": "ef0f3c3c-f918-4e5a-9cb6-d30f28484b42"
      },
      "outputs": [
        {
          "data": {
            "text/plain": [
              "Text(0.5, 1.0, 'Most bookings made by the Sales Owner')"
            ]
          },
          "execution_count": 56,
          "metadata": {},
          "output_type": "execute_result"
        },
        {
          "data": {
            "image/png": "[encoded data removed]",
            "text/plain": [
              "<Figure size 1000x700 with 1 Axes>"
            ]
          },
          "metadata": {},
          "output_type": "display_data"
        }
      ],
      "source": [
        "### visualizing the graph\n",
        "plt.figure(figsize=(10,7))\n",
        "sns.barplot(x= top_SalesOwner['Sales Owner'], y= top_SalesOwner['Most_Sales Owner'], order = top_SalesOwner['Sales Owner'])\n",
        "plt.xlabel('Sales Owner')\n",
        "plt.ylabel('Number of leads')\n",
        "plt.title('Most bookings made by the Sales Owner')"
      ]
    },
    {
      "cell_type": "markdown",
      "metadata": {
        "id": "-3Wnt4_8dbU5"
      },
      "source": [
        "# We can see that sales owner SAM is giving the highest number of leads."
      ]
    },
    {
      "cell_type": "markdown",
      "metadata": {
        "id": "NgS9-kqPKd_v"
      },
      "source": [
        "# 6"
      ]
    },
    {
      "cell_type": "code",
      "execution_count": null,
      "metadata": {
        "id": "hISupr6v8rHn",
        "scrolled": false
      },
      "outputs": [],
      "source": [
        "highest_channel = SQL.groupby(['QL Creation  Date'])['QL Creation  Date'].agg({'count'}).reset_index().rename(columns={'count': \"Most_Bookings\" }).sort_values(by='Most_Bookings',ascending=False)\n",
        "#print(highest_channel)\n",
        "##Droping the 0 agent values\n",
        "highest_channel.drop(highest_channel[highest_channel['QL Creation  Date']==0].index,inplace=True)\n",
        "print(highest_channel[:30])\n",
        "top_channels = highest_channel[:15]"
      ]
    },
    {
      "cell_type": "code",
      "execution_count": null,
      "metadata": {
        "id": "NU_F77jSdbU7"
      },
      "outputs": [],
      "source": [
        "SQL['Prospect Creation Date'] = pd.to_datetime(SQL['Prospect Creation Date'], format = '%Y-%m-%d')\n"
      ]
    },
    {
      "cell_type": "code",
      "execution_count": null,
      "metadata": {
        "id": "vybdqNgSdbU7"
      },
      "outputs": [],
      "source": [
        "# Assuming 'QL Creation Date' column is in string format\n",
        "SQL['year_only'] = pd.to_datetime(SQL['QL Creation Date']).dt.year\n"
      ]
    },
    {
      "cell_type": "markdown",
      "metadata": {
        "id": "W0f8wDEq5bKz"
      },
      "source": [
        "# Solution to Business Objective\n",
        "\n",
        "## Based on the project and outcomes, I would suggest the client as follows:\n",
        "\n",
        "\n",
        "### 1.Most leads are coming the platform linkedIn, so it would be beneficial if you focus more on making networks in LinkedIn.\n",
        "### 2.Most of the leads are active, but we can't ignore that a huge amount of leads are lost. So, I would suggest you to focus more on maintaing the leads i.e., to keep them active in order to have high customer support.\n",
        "### 3.We have also found the Mean Lead Score is 0.58586 which would be beneficial for you to make decisions and have also calculated the median, quantiles, etc.\n",
        "### 4.We can see that the Current Stage of most of the leads is in QL (Qualified Lead) level, which shows a huge success for you.\n",
        "### 5.Most leads are coming from the sales owner SAM, which means he is doing a great job.\n"
      ]
    },
    {
      "cell_type": "code",
      "execution_count": null,
      "metadata": {
        "id": "afmeXzUcdbU8"
      },
      "outputs": [],
      "source": []
    }
  ],
  "metadata": {
    "colab": {
      "collapsed_sections": [
        "2H4ZSbtLmjLj",
        "xoprHUXEnAQn",
        "BepjWqVdMrLD",
        "rjvPrdhZ1EEm",
        "U47i2z65evCW",
        "xCwwLH1Mm4Xy",
        "L9BvVeNMJDT0",
        "QC0PCmLHJeNV",
        "zFJzHqRRKKn4",
        "NgS9-kqPKd_v",
        "OQPenTjFKuQT",
        "8_EhtBSxK_Xd",
        "fODSqjiqLWwW",
        "RpkYT5PGLjB9",
        "q1F4ckNJLxmO",
        "GZovwkgNMLXs",
        "fKWIuQfMQuSI",
        "emccVt1bQ_wq",
        "1PqcAvf4R-OA",
        "m1uSBf7ISRIf",
        "BNYZufhxSiuz",
        "btv9GwMFSyeP",
        "uABg5RiPS-GW",
        "6sVcbY8ETL4n",
        "eVa9jQBzWM_9",
        "HvvtAxH0Wim2",
        "iBiIyEcHWwPP",
        "J6EWN7ptXJfw",
        "fnwOaj1KXcdh",
        "eXeC-WLsXnp2"
      ],
      "provenance": [],
      "include_colab_link": true
    },
    "kernelspec": {
      "display_name": "Python 3 (ipykernel)",
      "language": "python",
      "name": "python3"
    },
    "language_info": {
      "codemirror_mode": {
        "name": "ipython",
        "version": 3
      },
      "file_extension": ".py",
      "mimetype": "text/x-python",
      "name": "python",
      "nbconvert_exporter": "python",
      "pygments_lexer": "ipython3",
      "version": "3.10.9"
    }
  },
  "nbformat": 4,
  "nbformat_minor": 0
}